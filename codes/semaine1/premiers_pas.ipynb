{
 "cells": [
  {
   "cell_type": "markdown",
   "id": "ebdc2a02-e119-48bb-bfb4-77c96afaec5b",
   "metadata": {},
   "source": [
    "# Exercice 1 : Afficher votre nom\n"
   ]
  },
  {
   "cell_type": "code",
   "execution_count": 7,
   "id": "5a019c5a-f8c7-4909-8c64-4f370f68d886",
   "metadata": {},
   "outputs": [
    {
     "name": "stdout",
     "output_type": "stream",
     "text": [
      "Bonjour, je m'appelle Lalla Aicha El Vadel\n"
     ]
    }
   ],
   "source": [
    "print(\"Bonjour, je m'appelle Lalla Aicha El Vadel\")"
   ]
  },
  {
   "cell_type": "markdown",
   "id": "29b16ea5-911c-4adf-9c7e-f931f4cae729",
   "metadata": {},
   "source": [
    "# Exercice 2 : Effectuer quelques calculs\n"
   ]
  },
  {
   "cell_type": "markdown",
   "id": "c7230898-8bd0-4f45-a923-25b467e47f86",
   "metadata": {},
   "source": [
    "Declare Two Variables"
   ]
  },
  {
   "cell_type": "code",
   "execution_count": 3,
   "id": "ae4795ed-e06d-4dfd-a9ec-a9316c95a8dc",
   "metadata": {},
   "outputs": [],
   "source": [
    "a = 5 \n",
    "b = 2\n"
   ]
  },
  {
   "cell_type": "markdown",
   "id": "e5a02982-99e7-4be1-a4a0-73072eb2867d",
   "metadata": {},
   "source": [
    "Add two variables"
   ]
  },
  {
   "cell_type": "code",
   "execution_count": 4,
   "id": "c4cfca44-74da-49aa-b247-4d70608e55b5",
   "metadata": {},
   "outputs": [
    {
     "name": "stdout",
     "output_type": "stream",
     "text": [
      "a + b = 7\n"
     ]
    }
   ],
   "source": [
    "print(\"a + b =\", a + b)"
   ]
  },
  {
   "cell_type": "markdown",
   "id": "a3e4dfd9-36e3-4bbe-be94-2679fc3442ea",
   "metadata": {},
   "source": [
    "# Exercice 3 : Travailler avec une liste\n"
   ]
  },
  {
   "cell_type": "code",
   "execution_count": 5,
   "id": "ed596391-8d37-4ad3-87a9-35d106f09d05",
   "metadata": {},
   "outputs": [
    {
     "name": "stdout",
     "output_type": "stream",
     "text": [
      "2\n",
      "4\n",
      "6\n",
      "8\n"
     ]
    }
   ],
   "source": [
    "nombres = [1, 2, 3, 4]\n",
    "for n in nombres:\n",
    "    print(n * 2)"
   ]
  },
  {
   "cell_type": "code",
   "execution_count": null,
   "id": "7db0a09d-4573-409b-81f6-f3a5e07b95a6",
   "metadata": {},
   "outputs": [],
   "source": []
  }
 ],
 "metadata": {
  "kernelspec": {
   "display_name": "Python [conda env:base] *",
   "language": "python",
   "name": "conda-base-py"
  },
  "language_info": {
   "codemirror_mode": {
    "name": "ipython",
    "version": 3
   },
   "file_extension": ".py",
   "mimetype": "text/x-python",
   "name": "python",
   "nbconvert_exporter": "python",
   "pygments_lexer": "ipython3",
   "version": "3.13.5"
  }
 },
 "nbformat": 4,
 "nbformat_minor": 5
}
