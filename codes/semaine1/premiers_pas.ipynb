{
 "cells": [
  {
   "cell_type": "markdown",
   "id": "b09dc9a7-8f4b-48a8-87cc-022660a72196",
   "metadata": {},
   "source": [
    "# Bonjour, je m'appelle Lalla Aicha"
   ]
  },
  {
   "cell_type": "markdown",
   "id": "c7230898-8bd0-4f45-a923-25b467e47f86",
   "metadata": {},
   "source": [
    "Declare Two Variables"
   ]
  },
  {
   "cell_type": "code",
   "execution_count": 3,
   "id": "ae4795ed-e06d-4dfd-a9ec-a9316c95a8dc",
   "metadata": {},
   "outputs": [],
   "source": [
    "a = 5 \n",
    "b = 2\n"
   ]
  },
  {
   "cell_type": "markdown",
   "id": "e5a02982-99e7-4be1-a4a0-73072eb2867d",
   "metadata": {},
   "source": [
    "Add two variables"
   ]
  },
  {
   "cell_type": "code",
   "execution_count": 4,
   "id": "c4cfca44-74da-49aa-b247-4d70608e55b5",
   "metadata": {},
   "outputs": [
    {
     "name": "stdout",
     "output_type": "stream",
     "text": [
      "a + b = 7\n"
     ]
    }
   ],
   "source": [
    "print(\"a + b =\", a + b)"
   ]
  },
  {
   "cell_type": "markdown",
   "id": "a3e4dfd9-36e3-4bbe-be94-2679fc3442ea",
   "metadata": {},
   "source": [
    "Travailler avec une liste"
   ]
  },
  {
   "cell_type": "code",
   "execution_count": 6,
   "id": "ed596391-8d37-4ad3-87a9-35d106f09d05",
   "metadata": {},
   "outputs": [
    {
     "name": "stdout",
     "output_type": "stream",
     "text": [
      "2\n",
      "4\n",
      "6\n",
      "8\n"
     ]
    }
   ],
   "source": [
    "nombres = [1, 2, 3, 4]\n",
    "for n in nombres:\n",
    "    print(n * 2)"
   ]
  },
  {
   "cell_type": "code",
   "execution_count": null,
   "id": "1a4781f6-5c5b-4d47-8606-b1ed6c3cc3b4",
   "metadata": {},
   "outputs": [],
   "source": []
  }
 ],
 "metadata": {
  "kernelspec": {
   "display_name": "Python [conda env:base] *",
   "language": "python",
   "name": "conda-base-py"
  },
  "language_info": {
   "codemirror_mode": {
    "name": "ipython",
    "version": 3
   },
   "file_extension": ".py",
   "mimetype": "text/x-python",
   "name": "python",
   "nbconvert_exporter": "python",
   "pygments_lexer": "ipython3",
   "version": "3.13.5"
  }
 },
 "nbformat": 4,
 "nbformat_minor": 5
}
